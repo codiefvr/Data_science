{
  "nbformat": 4,
  "nbformat_minor": 0,
  "metadata": {
    "colab": {
      "provenance": []
    },
    "kernelspec": {
      "name": "python3",
      "display_name": "Python 3"
    },
    "language_info": {
      "name": "python"
    }
  },
  "cells": [
    {
      "cell_type": "code",
      "execution_count": null,
      "metadata": {
        "colab": {
          "base_uri": "https://localhost:8080/"
        },
        "id": "6br060_76YSV",
        "outputId": "ad0b9206-39a4-44cd-f994-9eacbb81fb6b"
      },
      "outputs": [
        {
          "output_type": "stream",
          "name": "stdout",
          "text": [
            "X. Shape (9, 1, 1)\n",
            "Y. Shape (9,)\n"
          ]
        }
      ],
      "source": [
        "import numpy as np\n",
        "\n",
        "data = np.array([10, 20, 30, 40, 50, 60, 70, 80, 90, 100])\n",
        "\n",
        "sequence_length = 1\n",
        "\n",
        "sequences = []\n",
        "target = []\n",
        "\n",
        "for i in range(len(data) - sequence_length):\n",
        "    sequences.append(data[i:i+sequence_length])\n",
        "    target.append(data[i+sequence_length])\n",
        "\n",
        "\n",
        "X = np.array(sequences)\n",
        "Y = np.array(target)\n",
        "\n",
        "X = X.reshape(X.shape[0], sequence_length, 1)\n",
        "\n",
        "print(\"X. Shape\",X.shape)\n",
        "print(\"Y. Shape\",Y.shape)"
      ]
    },
    {
      "cell_type": "code",
      "source": [
        "import numpy as np\n",
        "from tensorflow.keras.models import Sequential\n",
        "from tensorflow.keras.layers import LSTM, Dense, Dropout\n",
        "from tensorflow.keras.datasets import mnist\n",
        "from tensorflow.keras.utils import to_categorical\n",
        "\n",
        "#Load and preprogress the MNIST dataset\n",
        "(x_train, y_train), (x_test, y_test) = mnist.load_data()\n",
        "x_train = x_train.astype('float32') / 255.0\n",
        "x_test = x_test.astype('float32') / 255.0\n",
        "y_train = to_categorical(y_train, 10)\n",
        "y_test = to_categorical(y_test, 10)\n",
        "\n",
        "#Reshape the data for LSTM input\n",
        "time_steps, features = x_train.shape[1], x_train.shape[2]\n",
        "x_train = x_train.reshape(x_train.shape[0], time_steps, features)\n",
        "x_test = x_test.reshape(x_test.shape[0], time_steps, features)\n",
        "\n",
        "#Build the Multi-Layer LSTM Model\n",
        "model = Sequential()\n",
        "model.add(LSTM(128, input_shape=(time_steps, features), return_sequences=True))\n",
        "model.add(Dropout(0.2))\n",
        "model.add(LSTM(128, return_sequences = True))\n",
        "model.add(Dropout(0.2))\n",
        "model.add(LSTM(128))\n",
        "model.add(Dense(10, activation='softmax'))\n",
        "\n",
        "#Compile the model\n",
        "model.compile(optimizer='adam', loss='categorical_crossentropy', metrics=['accuracy'])\n",
        "\n",
        "#Train the model\n",
        "model.fit(x_train, y_train, batch_size=32, epochs=5, validation_data=(x_test, y_test))\n",
        "\n",
        "#Evaluate the model\n",
        "accuracy = model.evaluate(x_test, y_test)[1]\n",
        "print(f'Test Accuracy: {accuracy * 100:.2f}%')"
      ],
      "metadata": {
        "colab": {
          "base_uri": "https://localhost:8080/"
        },
        "id": "9KYYCfL1A0Mi",
        "outputId": "006b4916-17f4-495a-f7ad-07e34961857b"
      },
      "execution_count": null,
      "outputs": [
        {
          "output_type": "stream",
          "name": "stdout",
          "text": [
            "Epoch 1/5\n",
            "\u001b[1m1875/1875\u001b[0m \u001b[32m━━━━━━━━━━━━━━━━━━━━\u001b[0m\u001b[37m\u001b[0m \u001b[1m259s\u001b[0m 135ms/step - accuracy: 0.7978 - loss: 0.6028 - val_accuracy: 0.9704 - val_loss: 0.0988\n",
            "Epoch 2/5\n",
            "\u001b[1m1875/1875\u001b[0m \u001b[32m━━━━━━━━━━━━━━━━━━━━\u001b[0m\u001b[37m\u001b[0m \u001b[1m244s\u001b[0m 130ms/step - accuracy: 0.9715 - loss: 0.0953 - val_accuracy: 0.9836 - val_loss: 0.0568\n",
            "Epoch 3/5\n",
            "\u001b[1m1875/1875\u001b[0m \u001b[32m━━━━━━━━━━━━━━━━━━━━\u001b[0m\u001b[37m\u001b[0m \u001b[1m246s\u001b[0m 131ms/step - accuracy: 0.9805 - loss: 0.0652 - val_accuracy: 0.9838 - val_loss: 0.0545\n",
            "Epoch 4/5\n",
            "\u001b[1m1875/1875\u001b[0m \u001b[32m━━━━━━━━━━━━━━━━━━━━\u001b[0m\u001b[37m\u001b[0m \u001b[1m268s\u001b[0m 135ms/step - accuracy: 0.9859 - loss: 0.0487 - val_accuracy: 0.9838 - val_loss: 0.0516\n",
            "Epoch 5/5\n",
            "\u001b[1m1875/1875\u001b[0m \u001b[32m━━━━━━━━━━━━━━━━━━━━\u001b[0m\u001b[37m\u001b[0m \u001b[1m256s\u001b[0m 132ms/step - accuracy: 0.9875 - loss: 0.0405 - val_accuracy: 0.9850 - val_loss: 0.0501\n",
            "\u001b[1m313/313\u001b[0m \u001b[32m━━━━━━━━━━━━━━━━━━━━\u001b[0m\u001b[37m\u001b[0m \u001b[1m14s\u001b[0m 44ms/step - accuracy: 0.9811 - loss: 0.0584\n",
            "Test Accuracy: 98.50%\n"
          ]
        }
      ]
    }
  ]
}